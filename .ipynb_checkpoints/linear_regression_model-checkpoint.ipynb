{
 "cells": [
  {
   "cell_type": "code",
   "execution_count": 1,
   "id": "4e297408-6e94-402c-9718-8232430a9f83",
   "metadata": {},
   "outputs": [],
   "source": [
    "import pandas as pd"
   ]
  },
  {
   "cell_type": "code",
   "execution_count": 10,
   "id": "9d49b5a2-1bd9-439c-9bf1-2b5c070da00f",
   "metadata": {},
   "outputs": [],
   "source": [
    "from sklearn.linear_model import LinearRegression\n",
    "from sklearn.metrics import mean_squared_error, r2_score\n",
    "import numpy as np"
   ]
  },
  {
   "cell_type": "code",
   "execution_count": 11,
   "id": "141d04bf-80f9-4112-b53a-d3e8697f23f8",
   "metadata": {},
   "outputs": [
    {
     "data": {
      "text/html": [
       "<div>\n",
       "<style scoped>\n",
       "    .dataframe tbody tr th:only-of-type {\n",
       "        vertical-align: middle;\n",
       "    }\n",
       "\n",
       "    .dataframe tbody tr th {\n",
       "        vertical-align: top;\n",
       "    }\n",
       "\n",
       "    .dataframe thead th {\n",
       "        text-align: right;\n",
       "    }\n",
       "</style>\n",
       "<table border=\"1\" class=\"dataframe\">\n",
       "  <thead>\n",
       "    <tr style=\"text-align: right;\">\n",
       "      <th></th>\n",
       "      <th>vehID</th>\n",
       "      <th>step</th>\n",
       "      <th>acceleration(m/s²)</th>\n",
       "      <th>actualBatteryCapacity(Wh)</th>\n",
       "      <th>SoC(%)</th>\n",
       "      <th>speed(m/s)</th>\n",
       "      <th>speedFactor</th>\n",
       "      <th>totalEnergyConsumed(Wh)</th>\n",
       "      <th>totalEnergyRegenerated(Wh)</th>\n",
       "      <th>lon</th>\n",
       "      <th>lat</th>\n",
       "      <th>alt</th>\n",
       "      <th>slope(º)</th>\n",
       "      <th>completedDistance(km)</th>\n",
       "      <th>mWh</th>\n",
       "      <th>remainingRange(km)</th>\n",
       "      <th>time</th>\n",
       "      <th>energyConsumptionRate(Wh/km)</th>\n",
       "    </tr>\n",
       "  </thead>\n",
       "  <tbody>\n",
       "    <tr>\n",
       "      <th>0</th>\n",
       "      <td>EV0</td>\n",
       "      <td>101</td>\n",
       "      <td>0.75</td>\n",
       "      <td>0.292495</td>\n",
       "      <td>1.000000</td>\n",
       "      <td>0.040074</td>\n",
       "      <td>0.202206</td>\n",
       "      <td>0.000036</td>\n",
       "      <td>0.0</td>\n",
       "      <td>0.009050</td>\n",
       "      <td>0.000040</td>\n",
       "      <td>0.924076</td>\n",
       "      <td>0.578218</td>\n",
       "      <td>0.000039</td>\n",
       "      <td>0.065912</td>\n",
       "      <td>0.043997</td>\n",
       "      <td>101</td>\n",
       "      <td>0.937392</td>\n",
       "    </tr>\n",
       "    <tr>\n",
       "      <th>1</th>\n",
       "      <td>EV0</td>\n",
       "      <td>102</td>\n",
       "      <td>0.75</td>\n",
       "      <td>0.292448</td>\n",
       "      <td>0.999685</td>\n",
       "      <td>0.080148</td>\n",
       "      <td>0.202206</td>\n",
       "      <td>0.000143</td>\n",
       "      <td>0.0</td>\n",
       "      <td>0.008993</td>\n",
       "      <td>0.000159</td>\n",
       "      <td>0.925038</td>\n",
       "      <td>0.578218</td>\n",
       "      <td>0.000077</td>\n",
       "      <td>0.054530</td>\n",
       "      <td>0.034358</td>\n",
       "      <td>102</td>\n",
       "      <td>1.849586</td>\n",
       "    </tr>\n",
       "    <tr>\n",
       "      <th>2</th>\n",
       "      <td>EV0</td>\n",
       "      <td>103</td>\n",
       "      <td>0.75</td>\n",
       "      <td>0.292373</td>\n",
       "      <td>0.999370</td>\n",
       "      <td>0.120221</td>\n",
       "      <td>0.202206</td>\n",
       "      <td>0.000312</td>\n",
       "      <td>0.0</td>\n",
       "      <td>0.008906</td>\n",
       "      <td>0.000337</td>\n",
       "      <td>0.926481</td>\n",
       "      <td>0.578218</td>\n",
       "      <td>0.000174</td>\n",
       "      <td>0.049856</td>\n",
       "      <td>0.030394</td>\n",
       "      <td>103</td>\n",
       "      <td>1.789669</td>\n",
       "    </tr>\n",
       "    <tr>\n",
       "      <th>3</th>\n",
       "      <td>EV0</td>\n",
       "      <td>104</td>\n",
       "      <td>0.75</td>\n",
       "      <td>0.292271</td>\n",
       "      <td>0.998740</td>\n",
       "      <td>0.160295</td>\n",
       "      <td>0.202206</td>\n",
       "      <td>0.000543</td>\n",
       "      <td>0.0</td>\n",
       "      <td>0.008791</td>\n",
       "      <td>0.000575</td>\n",
       "      <td>0.928406</td>\n",
       "      <td>0.578218</td>\n",
       "      <td>0.000290</td>\n",
       "      <td>0.047240</td>\n",
       "      <td>0.028170</td>\n",
       "      <td>104</td>\n",
       "      <td>1.868065</td>\n",
       "    </tr>\n",
       "    <tr>\n",
       "      <th>4</th>\n",
       "      <td>EV1</td>\n",
       "      <td>104</td>\n",
       "      <td>0.85</td>\n",
       "      <td>0.292478</td>\n",
       "      <td>0.999685</td>\n",
       "      <td>0.061446</td>\n",
       "      <td>0.355191</td>\n",
       "      <td>0.000075</td>\n",
       "      <td>0.0</td>\n",
       "      <td>0.009035</td>\n",
       "      <td>0.000071</td>\n",
       "      <td>0.924332</td>\n",
       "      <td>0.578218</td>\n",
       "      <td>0.000039</td>\n",
       "      <td>0.047814</td>\n",
       "      <td>0.028677</td>\n",
       "      <td>104</td>\n",
       "      <td>1.945341</td>\n",
       "    </tr>\n",
       "  </tbody>\n",
       "</table>\n",
       "</div>"
      ],
      "text/plain": [
       "  vehID  step  acceleration(m/s²)  actualBatteryCapacity(Wh)    SoC(%)  \\\n",
       "0   EV0   101                0.75                   0.292495  1.000000   \n",
       "1   EV0   102                0.75                   0.292448  0.999685   \n",
       "2   EV0   103                0.75                   0.292373  0.999370   \n",
       "3   EV0   104                0.75                   0.292271  0.998740   \n",
       "4   EV1   104                0.85                   0.292478  0.999685   \n",
       "\n",
       "   speed(m/s)  speedFactor  totalEnergyConsumed(Wh)  \\\n",
       "0    0.040074     0.202206                 0.000036   \n",
       "1    0.080148     0.202206                 0.000143   \n",
       "2    0.120221     0.202206                 0.000312   \n",
       "3    0.160295     0.202206                 0.000543   \n",
       "4    0.061446     0.355191                 0.000075   \n",
       "\n",
       "   totalEnergyRegenerated(Wh)       lon       lat       alt  slope(º)  \\\n",
       "0                         0.0  0.009050  0.000040  0.924076  0.578218   \n",
       "1                         0.0  0.008993  0.000159  0.925038  0.578218   \n",
       "2                         0.0  0.008906  0.000337  0.926481  0.578218   \n",
       "3                         0.0  0.008791  0.000575  0.928406  0.578218   \n",
       "4                         0.0  0.009035  0.000071  0.924332  0.578218   \n",
       "\n",
       "   completedDistance(km)       mWh  remainingRange(km)  time  \\\n",
       "0               0.000039  0.065912            0.043997   101   \n",
       "1               0.000077  0.054530            0.034358   102   \n",
       "2               0.000174  0.049856            0.030394   103   \n",
       "3               0.000290  0.047240            0.028170   104   \n",
       "4               0.000039  0.047814            0.028677   104   \n",
       "\n",
       "   energyConsumptionRate(Wh/km)  \n",
       "0                      0.937392  \n",
       "1                      1.849586  \n",
       "2                      1.789669  \n",
       "3                      1.868065  \n",
       "4                      1.945341  "
      ]
     },
     "execution_count": 11,
     "metadata": {},
     "output_type": "execute_result"
    }
   ],
   "source": [
    "df = pd.read_csv(\"preprocessed_electric_vehicle_trip_data.csv\")\n",
    "df.head()"
   ]
  },
  {
   "cell_type": "code",
   "execution_count": 12,
   "id": "ba5772bd-a7b5-4949-963d-8a3f76154695",
   "metadata": {},
   "outputs": [
    {
     "name": "stdout",
     "output_type": "stream",
     "text": [
      "Training set size: (26398, 9)\n",
      "Testing set size: (6600, 9)\n"
     ]
    }
   ],
   "source": [
    "from sklearn.model_selection import train_test_split\n",
    "\n",
    "# Selecting relevant features for prediction\n",
    "features = [\n",
    "    \"acceleration(m/s²)\", \"speed(m/s)\", \"speedFactor\",\n",
    "    \"totalEnergyConsumed(Wh)\", \"totalEnergyRegenerated(Wh)\",\n",
    "    \"slope(º)\", \"completedDistance(km)\", \"remainingRange(km)\",\n",
    "    \"energyConsumptionRate(Wh/km)\"\n",
    "]\n",
    "target = \"SoC(%)\"\n",
    "\n",
    "# Splitting data into training (80%) and testing (20%) sets\n",
    "X = df[features]\n",
    "y = df[target]\n",
    "\n",
    "X_train, X_test, y_train, y_test = train_test_split(X, y, test_size=0.2, random_state=42)\n",
    "\n",
    "print(\"Training set size:\", X_train.shape)\n",
    "print(\"Testing set size:\", X_test.shape)\n"
   ]
  },
  {
   "cell_type": "code",
   "execution_count": 17,
   "id": "e668dac9-6ce5-4a7f-a0c5-f0f31026278f",
   "metadata": {},
   "outputs": [
    {
     "name": "stdout",
     "output_type": "stream",
     "text": [
      "Linear Regression RMSE: 0.03562770183334124\n",
      "Linear Regression R² Score: 0.9759790637820672\n",
      "Linear Regression MAE: 0.026589539412412305\n"
     ]
    }
   ],
   "source": [
    "from sklearn.linear_model import LinearRegression\n",
    "from sklearn.preprocessing import StandardScaler\n",
    "from sklearn.metrics import mean_squared_error, r2_score\n",
    "from sklearn.metrics import mean_absolute_error\n",
    "import numpy as np\n",
    "\n",
    "# Step 1: Standardize the features\n",
    "scaler = StandardScaler()\n",
    "X_train_scaled = scaler.fit_transform(X_train)\n",
    "X_test_scaled = scaler.transform(X_test)\n",
    "\n",
    "# Step 2: Train the Linear Regression model\n",
    "lr_model = LinearRegression()\n",
    "lr_model.fit(X_train_scaled, y_train)\n",
    "\n",
    "# Step 3: Make predictions on the test set\n",
    "y_pred_lr = lr_model.predict(X_test_scaled)\n",
    "y_pred_lr = np.clip(y_pred_lr, 0, 100)  # Ensures SoC is within valid range\n",
    "# Step 4: Evaluate the model\n",
    "rmse_lr = np.sqrt(mean_squared_error(y_test, y_pred_lr))\n",
    "r2_lr = r2_score(y_test, y_pred_lr)\n",
    "\n",
    "mae = mean_absolute_error(y_test, y_pred_lr)  # Replace y_pred_lr with actual predictions\n",
    "\n",
    "\n",
    "rmse = np.sqrt(mean_squared_error(y_test, y_pred_lr))  # Replace y_pred_lr with actual predictions\n",
    "# print(\"Linear Regression RMSE:\", rmse)\n",
    "\n",
    "print(\"Linear Regression RMSE:\", rmse_lr)\n",
    "print(\"Linear Regression R² Score:\", r2_lr)\n",
    "print(\"Linear Regression MAE:\", mae)\n"
   ]
  },
  {
   "cell_type": "code",
   "execution_count": 18,
   "id": "6c2b24fe-5c9e-433c-82d9-2054c4120dc0",
   "metadata": {},
   "outputs": [
    {
     "name": "stdout",
     "output_type": "stream",
     "text": [
      "Requirement already satisfied: joblib in c:\\users\\omkar\\appdata\\local\\programs\\python\\python312\\lib\\site-packages (1.4.2)\n"
     ]
    }
   ],
   "source": [
    "!pip install joblib"
   ]
  },
  {
   "cell_type": "code",
   "execution_count": 19,
   "id": "19f11d28-204d-4ed2-b409-4852451abd7a",
   "metadata": {},
   "outputs": [
    {
     "data": {
      "text/plain": [
       "['scaler_linear_reg.pkl']"
      ]
     },
     "execution_count": 19,
     "metadata": {},
     "output_type": "execute_result"
    }
   ],
   "source": [
    "#saving model\n",
    "import joblib\n",
    "\n",
    "# Save the model\n",
    "joblib.dump(lr_model, \"soc_linear_reg_prediction_model.pkl\")\n",
    "\n",
    "# Save the scaler (for consistent preprocessing)\n",
    "joblib.dump(scaler, \"scaler_linear_reg.pkl\")\n"
   ]
  },
  {
   "cell_type": "code",
   "execution_count": 20,
   "id": "961828a8-bfbe-41b1-aad4-ce5a5668d3c4",
   "metadata": {},
   "outputs": [
    {
     "name": "stdout",
     "output_type": "stream",
     "text": [
      "Predicted SoC: -1.042075988721428\n"
     ]
    },
    {
     "name": "stderr",
     "output_type": "stream",
     "text": [
      "C:\\Users\\omkar\\AppData\\Local\\Programs\\Python\\Python312\\Lib\\site-packages\\sklearn\\base.py:493: UserWarning: X does not have valid feature names, but StandardScaler was fitted with feature names\n",
      "  warnings.warn(\n"
     ]
    }
   ],
   "source": [
    "#load model for predictions\n",
    "# Load the trained model\n",
    "lr_model = joblib.load(\"soc_linear_reg_prediction_model.pkl\")\n",
    "scaler = joblib.load(\"scaler_linear_reg.pkl\")\n",
    "\n",
    "# Sample new input data (replace with real sensor/API data)\n",
    "new_data = [[0.75, 12.5, 0.9, 10, 1, 2.5, 1.2, 15, 120]]  # Example input values\n",
    "\n",
    "# Apply the same scaling transformation\n",
    "new_data_scaled = scaler.transform(new_data)\n",
    "\n",
    "# Predict SoC\n",
    "predicted_soc = lr_model.predict(new_data_scaled)\n",
    "print(\"Predicted SoC:\", predicted_soc[0])\n"
   ]
  },
  {
   "cell_type": "code",
   "execution_count": null,
   "id": "5ba25018-3249-439b-b99e-ebf7ff2dcb18",
   "metadata": {},
   "outputs": [],
   "source": []
  },
  {
   "cell_type": "code",
   "execution_count": null,
   "id": "00ed0b95-1660-4bce-8de6-9aea6f38d687",
   "metadata": {},
   "outputs": [],
   "source": []
  }
 ],
 "metadata": {
  "kernelspec": {
   "display_name": "Python 3 (ipykernel)",
   "language": "python",
   "name": "python3"
  },
  "language_info": {
   "codemirror_mode": {
    "name": "ipython",
    "version": 3
   },
   "file_extension": ".py",
   "mimetype": "text/x-python",
   "name": "python",
   "nbconvert_exporter": "python",
   "pygments_lexer": "ipython3",
   "version": "3.12.0"
  }
 },
 "nbformat": 4,
 "nbformat_minor": 5
}
