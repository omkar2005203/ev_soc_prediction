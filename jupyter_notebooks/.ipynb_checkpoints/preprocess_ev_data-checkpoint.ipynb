{
 "cells": [
  {
   "cell_type": "code",
   "execution_count": 1,
   "id": "57439148-c3ac-4727-bdee-4079d1449efb",
   "metadata": {},
   "outputs": [],
   "source": [
    "import pandas as pd\n",
    "import numpy as np"
   ]
  },
  {
   "cell_type": "code",
   "execution_count": 2,
   "id": "e04d010c-678a-4430-aecc-60fc07b55763",
   "metadata": {},
   "outputs": [
    {
     "name": "stdout",
     "output_type": "stream",
     "text": [
      "  vehID  step  acceleration(m/s²)  actualBatteryCapacity(Wh)  SoC(%)  \\\n",
      "0   EV0   101                 1.5                   38998.85  100.00   \n",
      "1   EV0   102                 1.5                   38996.11   99.99   \n",
      "2   EV0   103                 1.5                   38991.79   99.98   \n",
      "3   EV0   104                 1.5                   38985.88   99.96   \n",
      "4   EV1   104                 2.3                   38997.85   99.99   \n",
      "\n",
      "   speed(m/s)  speedFactor  totalEnergyConsumed(Wh)  \\\n",
      "0         1.5     0.916619                     1.15   \n",
      "1         3.0     0.916619                     3.89   \n",
      "2         4.5     0.916619                     8.21   \n",
      "3         6.0     0.916619                    14.12   \n",
      "4         2.3     0.956203                     2.15   \n",
      "\n",
      "   totalEnergyRegenerated(Wh)       lon        lat         alt  slope(º)  \\\n",
      "0                         0.0 -3.001003  43.053164  218.346642  3.549004   \n",
      "1                         0.0 -3.001024  43.053186  218.532343  3.549004   \n",
      "2                         0.0 -3.001057  43.053218  218.810894  3.549004   \n",
      "3                         0.0 -3.001100  43.053262  219.182297  3.549004   \n",
      "4                         0.0 -3.001008  43.053170  218.396162  3.549004   \n",
      "\n",
      "   completedDistance(km)       mWh  remainingRange(km)  \n",
      "0                  0.002  1.304348           50.868065  \n",
      "1                  0.004  1.156812           45.111181  \n",
      "2                  0.009  1.096224           42.743741  \n",
      "3                  0.015  1.062323           41.415595  \n",
      "4                  0.002  1.069767           41.718630  \n",
      "vehID                         0\n",
      "step                          0\n",
      "acceleration(m/s²)            0\n",
      "actualBatteryCapacity(Wh)     0\n",
      "SoC(%)                        0\n",
      "speed(m/s)                    0\n",
      "speedFactor                   0\n",
      "totalEnergyConsumed(Wh)       0\n",
      "totalEnergyRegenerated(Wh)    0\n",
      "lon                           0\n",
      "lat                           0\n",
      "alt                           0\n",
      "slope(º)                      0\n",
      "completedDistance(km)         0\n",
      "mWh                           0\n",
      "remainingRange(km)            0\n",
      "dtype: int64\n"
     ]
    }
   ],
   "source": [
    "# Load the data\n",
    "file_path = '1_amurrio_durango_0.2_0_0_0_output.csv'\n",
    "data = pd.read_csv(file_path, delimiter=';')\n",
    "\n",
    "# Display the first few rows of the dataset\n",
    "print(data.head())\n",
    "\n",
    "# Check for missing values\n",
    "print(data.isnull().sum())"
   ]
  },
  {
   "cell_type": "code",
   "execution_count": 3,
   "id": "474ff3e8-3f09-4577-86a6-e7c15721956a",
   "metadata": {},
   "outputs": [
    {
     "name": "stderr",
     "output_type": "stream",
     "text": [
      "C:\\Users\\omkar\\AppData\\Local\\Temp\\ipykernel_14100\\3869018909.py:36: FutureWarning: A value is trying to be set on a copy of a DataFrame or Series through chained assignment using an inplace method.\n",
      "The behavior will change in pandas 3.0. This inplace method will never work because the intermediate object on which we are setting values always behaves as a copy.\n",
      "\n",
      "For example, when doing 'df[col].method(value, inplace=True)', try using 'df.method({col: value}, inplace=True)' or df[col] = df[col].method(value) instead, to perform the operation inplace on the original object.\n",
      "\n",
      "\n",
      "  data['energyConsumptionRate(Wh/km)'].replace([np.inf, -np.inf], np.nan, inplace=True)\n",
      "C:\\Users\\omkar\\AppData\\Local\\Temp\\ipykernel_14100\\3869018909.py:37: FutureWarning: A value is trying to be set on a copy of a DataFrame or Series through chained assignment using an inplace method.\n",
      "The behavior will change in pandas 3.0. This inplace method will never work because the intermediate object on which we are setting values always behaves as a copy.\n",
      "\n",
      "For example, when doing 'df[col].method(value, inplace=True)', try using 'df.method({col: value}, inplace=True)' or df[col] = df[col].method(value) instead, to perform the operation inplace on the original object.\n",
      "\n",
      "\n",
      "  data['energyConsumptionRate(Wh/km)'].fillna(0, inplace=True)\n"
     ]
    }
   ],
   "source": [
    "# Convert columns to appropriate data types\n",
    "data['step'] = data['step'].astype(int)\n",
    "data['acceleration(m/s²)'] = data['acceleration(m/s²)'].astype(float)\n",
    "data['actualBatteryCapacity(Wh)'] = data['actualBatteryCapacity(Wh)'].astype(float)\n",
    "data['SoC(%)'] = data['SoC(%)'].astype(float)\n",
    "data['speed(m/s)'] = data['speed(m/s)'].astype(float)\n",
    "data['speedFactor'] = data['speedFactor'].astype(float)\n",
    "data['totalEnergyConsumed(Wh)'] = data['totalEnergyConsumed(Wh)'].astype(float)\n",
    "data['totalEnergyRegenerated(Wh)'] = data['totalEnergyRegenerated(Wh)'].astype(float)\n",
    "data['lon'] = data['lon'].astype(float)\n",
    "data['lat'] = data['lat'].astype(float)\n",
    "data['alt'] = data['alt'].astype(float)\n",
    "data['slope(º)'] = data['slope(º)'].astype(float)\n",
    "data['completedDistance(km)'] = data['completedDistance(km)'].astype(float)\n",
    "data['mWh'] = data['mWh'].astype(float)\n",
    "data['remainingRange(km)'] = data['remainingRange(km)'].astype(float)\n",
    "\n",
    "# Normalize numerical features (optional)\n",
    "from sklearn.preprocessing import MinMaxScaler\n",
    "\n",
    "scaler = MinMaxScaler()\n",
    "numerical_features = ['acceleration(m/s²)', 'actualBatteryCapacity(Wh)', 'SoC(%)', 'speed(m/s)', \n",
    "                      'speedFactor', 'totalEnergyConsumed(Wh)', 'totalEnergyRegenerated(Wh)', \n",
    "                      'lon', 'lat', 'alt', 'slope(º)', 'completedDistance(km)', 'mWh', 'remainingRange(km)']\n",
    "\n",
    "data[numerical_features] = scaler.fit_transform(data[numerical_features])\n",
    "\n",
    "# Extract useful information (e.g., time-based features)\n",
    "# Assuming 'step' represents time steps, we can create a time column\n",
    "data['time'] = data['step'] * 1  # Assuming each step is 1 second\n",
    "\n",
    "# Create a new feature: energy consumption rate (Wh/km)\n",
    "data['energyConsumptionRate(Wh/km)'] = data['totalEnergyConsumed(Wh)'] / data['completedDistance(km)']\n",
    "\n",
    "# Handle infinite values in the new feature\n",
    "data['energyConsumptionRate(Wh/km)'] = data['energyConsumptionRate(Wh/km)'].replace([np.inf, -np.inf], np.nan)\n",
    "data['energyConsumptionRate(Wh/km)'] = data['energyConsumptionRate(Wh/km)'].fillna(0)\n",
    "\n",
    "# Drop unnecessary columns (if any)\n",
    "# data = data.drop(columns=['unnecessary_column'])\n"
   ]
  },
  {
   "cell_type": "code",
   "execution_count": null,
   "id": "b0367af5-f62d-4230-b3d5-ae7dbfcf79b9",
   "metadata": {},
   "outputs": [],
   "source": [
    "# Save the preprocessed data to a new CSV file\n",
    "output_file_path = 'preprocessed_electric_vehicle_trip_data.csv'\n",
    "data.to_csv(output_file_path, index=False)\n",
    "\n",
    "print(\"Preprocessing completed and data saved to\", output_file_path)"
   ]
  }
 ],
 "metadata": {
  "kernelspec": {
   "display_name": "Python 3 (ipykernel)",
   "language": "python",
   "name": "python3"
  },
  "language_info": {
   "codemirror_mode": {
    "name": "ipython",
    "version": 3
   },
   "file_extension": ".py",
   "mimetype": "text/x-python",
   "name": "python",
   "nbconvert_exporter": "python",
   "pygments_lexer": "ipython3",
   "version": "3.12.0"
  }
 },
 "nbformat": 4,
 "nbformat_minor": 5
}
